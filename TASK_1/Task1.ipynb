{
 "cells": [
  {
   "cell_type": "markdown",
   "id": "6c665660",
   "metadata": {},
   "source": [
    "# Task 1 - Prediction using Supervised ML"
   ]
  },
  {
   "cell_type": "markdown",
   "id": "1fb8cdeb",
   "metadata": {},
   "source": [
    "#### _To Predict the percentage of marks of the students based on the number of hours they studied._"
   ]
  },
  {
   "cell_type": "markdown",
   "id": "a815c468",
   "metadata": {},
   "source": [
    "### Author: __Yogeshvar M__"
   ]
  },
  {
   "cell_type": "markdown",
   "id": "6526abf9",
   "metadata": {},
   "source": [
    "### Importing"
   ]
  },
  {
   "cell_type": "code",
   "execution_count": 97,
   "id": "ddea8dc6",
   "metadata": {},
   "outputs": [],
   "source": [
    "#Importing_Libraries\n",
    "\n",
    "import pandas as pd                                  #pandas used for data analysis\n",
    "import matplotlib.pyplot as plt                      #pyplot provides matlab like interface\n",
    "import seaborn as sns                                #seaborn used for making statistical graphics\n",
    "from sklearn.model_selection import train_test_split #sklearn is simple and efficient tools for predictive data analysis\n",
    "from sklearn.linear_model import LinearRegression\n",
    "from sklearn.metrics import median_absolute_error\n"
   ]
  },
  {
   "cell_type": "code",
   "execution_count": 3,
   "id": "ed740c1e",
   "metadata": {
    "scrolled": false
   },
   "outputs": [
    {
     "data": {
      "text/html": [
       "<div>\n",
       "<style scoped>\n",
       "    .dataframe tbody tr th:only-of-type {\n",
       "        vertical-align: middle;\n",
       "    }\n",
       "\n",
       "    .dataframe tbody tr th {\n",
       "        vertical-align: top;\n",
       "    }\n",
       "\n",
       "    .dataframe thead th {\n",
       "        text-align: right;\n",
       "    }\n",
       "</style>\n",
       "<table border=\"1\" class=\"dataframe\">\n",
       "  <thead>\n",
       "    <tr style=\"text-align: right;\">\n",
       "      <th></th>\n",
       "      <th>Hours</th>\n",
       "      <th>Scores</th>\n",
       "    </tr>\n",
       "  </thead>\n",
       "  <tbody>\n",
       "    <tr>\n",
       "      <th>0</th>\n",
       "      <td>2.5</td>\n",
       "      <td>21</td>\n",
       "    </tr>\n",
       "    <tr>\n",
       "      <th>1</th>\n",
       "      <td>5.1</td>\n",
       "      <td>47</td>\n",
       "    </tr>\n",
       "    <tr>\n",
       "      <th>2</th>\n",
       "      <td>3.2</td>\n",
       "      <td>27</td>\n",
       "    </tr>\n",
       "    <tr>\n",
       "      <th>3</th>\n",
       "      <td>8.5</td>\n",
       "      <td>75</td>\n",
       "    </tr>\n",
       "    <tr>\n",
       "      <th>4</th>\n",
       "      <td>3.5</td>\n",
       "      <td>30</td>\n",
       "    </tr>\n",
       "    <tr>\n",
       "      <th>5</th>\n",
       "      <td>1.5</td>\n",
       "      <td>20</td>\n",
       "    </tr>\n",
       "    <tr>\n",
       "      <th>6</th>\n",
       "      <td>9.2</td>\n",
       "      <td>88</td>\n",
       "    </tr>\n",
       "    <tr>\n",
       "      <th>7</th>\n",
       "      <td>5.5</td>\n",
       "      <td>60</td>\n",
       "    </tr>\n",
       "    <tr>\n",
       "      <th>8</th>\n",
       "      <td>8.3</td>\n",
       "      <td>81</td>\n",
       "    </tr>\n",
       "    <tr>\n",
       "      <th>9</th>\n",
       "      <td>2.7</td>\n",
       "      <td>25</td>\n",
       "    </tr>\n",
       "    <tr>\n",
       "      <th>10</th>\n",
       "      <td>7.7</td>\n",
       "      <td>85</td>\n",
       "    </tr>\n",
       "    <tr>\n",
       "      <th>11</th>\n",
       "      <td>5.9</td>\n",
       "      <td>62</td>\n",
       "    </tr>\n",
       "    <tr>\n",
       "      <th>12</th>\n",
       "      <td>4.5</td>\n",
       "      <td>41</td>\n",
       "    </tr>\n",
       "    <tr>\n",
       "      <th>13</th>\n",
       "      <td>3.3</td>\n",
       "      <td>42</td>\n",
       "    </tr>\n",
       "    <tr>\n",
       "      <th>14</th>\n",
       "      <td>1.1</td>\n",
       "      <td>17</td>\n",
       "    </tr>\n",
       "    <tr>\n",
       "      <th>15</th>\n",
       "      <td>8.9</td>\n",
       "      <td>95</td>\n",
       "    </tr>\n",
       "    <tr>\n",
       "      <th>16</th>\n",
       "      <td>2.5</td>\n",
       "      <td>30</td>\n",
       "    </tr>\n",
       "    <tr>\n",
       "      <th>17</th>\n",
       "      <td>1.9</td>\n",
       "      <td>24</td>\n",
       "    </tr>\n",
       "    <tr>\n",
       "      <th>18</th>\n",
       "      <td>6.1</td>\n",
       "      <td>67</td>\n",
       "    </tr>\n",
       "    <tr>\n",
       "      <th>19</th>\n",
       "      <td>7.4</td>\n",
       "      <td>69</td>\n",
       "    </tr>\n",
       "    <tr>\n",
       "      <th>20</th>\n",
       "      <td>2.7</td>\n",
       "      <td>30</td>\n",
       "    </tr>\n",
       "    <tr>\n",
       "      <th>21</th>\n",
       "      <td>4.8</td>\n",
       "      <td>54</td>\n",
       "    </tr>\n",
       "    <tr>\n",
       "      <th>22</th>\n",
       "      <td>3.8</td>\n",
       "      <td>35</td>\n",
       "    </tr>\n",
       "    <tr>\n",
       "      <th>23</th>\n",
       "      <td>6.9</td>\n",
       "      <td>76</td>\n",
       "    </tr>\n",
       "    <tr>\n",
       "      <th>24</th>\n",
       "      <td>7.8</td>\n",
       "      <td>86</td>\n",
       "    </tr>\n",
       "  </tbody>\n",
       "</table>\n",
       "</div>"
      ],
      "text/plain": [
       "    Hours  Scores\n",
       "0     2.5      21\n",
       "1     5.1      47\n",
       "2     3.2      27\n",
       "3     8.5      75\n",
       "4     3.5      30\n",
       "5     1.5      20\n",
       "6     9.2      88\n",
       "7     5.5      60\n",
       "8     8.3      81\n",
       "9     2.7      25\n",
       "10    7.7      85\n",
       "11    5.9      62\n",
       "12    4.5      41\n",
       "13    3.3      42\n",
       "14    1.1      17\n",
       "15    8.9      95\n",
       "16    2.5      30\n",
       "17    1.9      24\n",
       "18    6.1      67\n",
       "19    7.4      69\n",
       "20    2.7      30\n",
       "21    4.8      54\n",
       "22    3.8      35\n",
       "23    6.9      76\n",
       "24    7.8      86"
      ]
     },
     "execution_count": 3,
     "metadata": {},
     "output_type": "execute_result"
    }
   ],
   "source": [
    "#Importing_Dataset\n",
    "\n",
    "marks=pd.read_csv('https://raw.githubusercontent.com/AdiPersonalWorks/Random/master/student_scores%20-%20student_scores.csv')\n",
    "marks"
   ]
  },
  {
   "cell_type": "markdown",
   "id": "088fe513",
   "metadata": {},
   "source": [
    "### Exploratory Data Analysis"
   ]
  },
  {
   "cell_type": "code",
   "execution_count": 10,
   "id": "67762d07",
   "metadata": {
    "scrolled": true
   },
   "outputs": [
    {
     "name": "stdout",
     "output_type": "stream",
     "text": [
      "<class 'pandas.core.frame.DataFrame'>\n",
      "RangeIndex: 25 entries, 0 to 24\n",
      "Data columns (total 2 columns):\n",
      " #   Column  Non-Null Count  Dtype  \n",
      "---  ------  --------------  -----  \n",
      " 0   Hours   25 non-null     float64\n",
      " 1   Scores  25 non-null     int64  \n",
      "dtypes: float64(1), int64(1)\n",
      "memory usage: 528.0 bytes\n"
     ]
    }
   ],
   "source": [
    "#Getting_information_about_dataset\n",
    "\n",
    "marks.info()"
   ]
  },
  {
   "cell_type": "code",
   "execution_count": 13,
   "id": "633c4c64",
   "metadata": {},
   "outputs": [
    {
     "name": "stdout",
     "output_type": "stream",
     "text": [
      "Hours : 0%\n",
      "Scores : 0%\n"
     ]
    }
   ],
   "source": [
    "#Finding_missing_data_percentage_in_dataframe\n",
    "\n",
    "for col in marks.columns:\n",
    "    percentage_missing=np.mean(marks[col].isnull())\n",
    "    print(f\"{col} : {round(percentage_missing*100)}%\")\n"
   ]
  },
  {
   "cell_type": "code",
   "execution_count": 22,
   "id": "539babb0",
   "metadata": {},
   "outputs": [
    {
     "name": "stdout",
     "output_type": "stream",
     "text": [
      "    Hours  Scores\n",
      "0    True    True\n",
      "1    True    True\n",
      "2    True    True\n",
      "3    True    True\n",
      "4    True    True\n",
      "5    True    True\n",
      "6    True    True\n",
      "7    True    True\n",
      "8    True    True\n",
      "9    True    True\n",
      "10   True    True\n",
      "11   True    True\n",
      "12   True    True\n",
      "13   True    True\n",
      "14   True    True\n",
      "15   True    True\n",
      "16   True    True\n",
      "17   True    True\n",
      "18   True    True\n",
      "19   True    True\n",
      "20   True    True\n",
      "21   True    True\n",
      "22   True    True\n",
      "23   True    True\n",
      "24   True    True\n"
     ]
    }
   ],
   "source": [
    "#Checking_for_NULL_values_in_Dataset\n",
    "\n",
    "check=marks.notnull()\n",
    "print(check)"
   ]
  },
  {
   "cell_type": "code",
   "execution_count": 94,
   "id": "abe77437",
   "metadata": {
    "scrolled": true
   },
   "outputs": [
    {
     "data": {
      "text/plain": [
       "<AxesSubplot:xlabel='Hours', ylabel='Scores'>"
      ]
     },
     "execution_count": 94,
     "metadata": {},
     "output_type": "execute_result"
    },
    {
     "data": {
      "image/png": "[encoded data removed]",
      "text/plain": [
       "<Figure size 432x288 with 1 Axes>"
      ]
     },
     "metadata": {
      "needs_background": "light"
     },
     "output_type": "display_data"
    }
   ],
   "source": [
    "#Understanding_the_Relationship_between_Hours_And_Scores_using_Regression_Plot\n",
    "\n",
    "sns.regplot(x='Hours',y='Scores',data=marks)"
   ]
  },
  {
   "cell_type": "markdown",
   "id": "0a169ccb",
   "metadata": {},
   "source": [
    "### Machine Learning:Supervised Learning"
   ]
  },
  {
   "cell_type": "code",
   "execution_count": 34,
   "id": "35830168",
   "metadata": {
    "scrolled": false
   },
   "outputs": [
    {
     "name": "stdout",
     "output_type": "stream",
     "text": [
      "The attribute values are \n",
      " [[2.5]\n",
      " [5.1]\n",
      " [3.2]\n",
      " [8.5]\n",
      " [3.5]\n",
      " [1.5]\n",
      " [9.2]\n",
      " [5.5]\n",
      " [8.3]\n",
      " [2.7]\n",
      " [7.7]\n",
      " [5.9]\n",
      " [4.5]\n",
      " [3.3]\n",
      " [1.1]\n",
      " [8.9]\n",
      " [2.5]\n",
      " [1.9]\n",
      " [6.1]\n",
      " [7.4]\n",
      " [2.7]\n",
      " [4.8]\n",
      " [3.8]\n",
      " [6.9]\n",
      " [7.8]]\n",
      "The label/target values are \n",
      " [21 47 27 75 30 20 88 60 81 25 85 62 41 42 17 95 30 24 67 69 30 54 35 76\n",
      " 86]\n"
     ]
    }
   ],
   "source": [
    "#Spliting_the_data\n",
    "\n",
    "attribute=marks.iloc[:,:-1].values\n",
    "target=marks.iloc[:,-1].values\n",
    "\n",
    "print(f\"The attribute values are \\n {attribute}\")\n",
    "print(f\"The label/target values are \\n {target}\")"
   ]
  },
  {
   "cell_type": "code",
   "execution_count": 46,
   "id": "2f43a891",
   "metadata": {},
   "outputs": [],
   "source": [
    "#Splitting_the_Training_and_Testing_Data\n",
    "\n",
    "train_attribute,test_attribute,train_target,test_target = train_test_split(attribute,target,train_size=0.7,\n",
    "                                                                           test_size=0.3)\n"
   ]
  },
  {
   "cell_type": "code",
   "execution_count": 38,
   "id": "b7680b48",
   "metadata": {},
   "outputs": [
    {
     "data": {
      "text/plain": [
       "LinearRegression()"
      ]
     },
     "execution_count": 38,
     "metadata": {},
     "output_type": "execute_result"
    }
   ],
   "source": [
    "#Fitting_the_training_data_into_model\n",
    "\n",
    "model=LinearRegression()\n",
    "model.fit(train_attribute,train_target)"
   ]
  },
  {
   "cell_type": "code",
   "execution_count": 51,
   "id": "72b4b97a",
   "metadata": {
    "scrolled": true
   },
   "outputs": [
    {
     "data": {
      "text/html": [
       "<div>\n",
       "<style scoped>\n",
       "    .dataframe tbody tr th:only-of-type {\n",
       "        vertical-align: middle;\n",
       "    }\n",
       "\n",
       "    .dataframe tbody tr th {\n",
       "        vertical-align: top;\n",
       "    }\n",
       "\n",
       "    .dataframe thead th {\n",
       "        text-align: right;\n",
       "    }\n",
       "</style>\n",
       "<table border=\"1\" class=\"dataframe\">\n",
       "  <thead>\n",
       "    <tr style=\"text-align: right;\">\n",
       "      <th></th>\n",
       "      <th>Hours</th>\n",
       "      <th>Marks</th>\n",
       "    </tr>\n",
       "  </thead>\n",
       "  <tbody>\n",
       "    <tr>\n",
       "      <th>0</th>\n",
       "      <td>[2.7]</td>\n",
       "      <td>30.378972</td>\n",
       "    </tr>\n",
       "    <tr>\n",
       "      <th>1</th>\n",
       "      <td>[8.3]</td>\n",
       "      <td>82.015213</td>\n",
       "    </tr>\n",
       "    <tr>\n",
       "      <th>2</th>\n",
       "      <td>[7.7]</td>\n",
       "      <td>76.482759</td>\n",
       "    </tr>\n",
       "    <tr>\n",
       "      <th>3</th>\n",
       "      <td>[6.1]</td>\n",
       "      <td>61.729547</td>\n",
       "    </tr>\n",
       "    <tr>\n",
       "      <th>4</th>\n",
       "      <td>[4.8]</td>\n",
       "      <td>49.742563</td>\n",
       "    </tr>\n",
       "    <tr>\n",
       "      <th>5</th>\n",
       "      <td>[6.9]</td>\n",
       "      <td>69.106153</td>\n",
       "    </tr>\n",
       "    <tr>\n",
       "      <th>6</th>\n",
       "      <td>[1.1]</td>\n",
       "      <td>15.625761</td>\n",
       "    </tr>\n",
       "    <tr>\n",
       "      <th>7</th>\n",
       "      <td>[3.8]</td>\n",
       "      <td>40.521805</td>\n",
       "    </tr>\n",
       "  </tbody>\n",
       "</table>\n",
       "</div>"
      ],
      "text/plain": [
       "   Hours      Marks\n",
       "0  [2.7]  30.378972\n",
       "1  [8.3]  82.015213\n",
       "2  [7.7]  76.482759\n",
       "3  [6.1]  61.729547\n",
       "4  [4.8]  49.742563\n",
       "5  [6.9]  69.106153\n",
       "6  [1.1]  15.625761\n",
       "7  [3.8]  40.521805"
      ]
     },
     "execution_count": 51,
     "metadata": {},
     "output_type": "execute_result"
    }
   ],
   "source": [
    "#Checking_the_model\n",
    "\n",
    "checking=model.predict(test_attribute)\n",
    "prediction=pd.DataFrame({\"Hours\":[h for h in test_attribute],\"Marks\":[m for m in checking]})\n",
    "prediction"
   ]
  },
  {
   "cell_type": "code",
   "execution_count": 52,
   "id": "d8f84087",
   "metadata": {},
   "outputs": [
    {
     "data": {
      "text/html": [
       "<div>\n",
       "<style scoped>\n",
       "    .dataframe tbody tr th:only-of-type {\n",
       "        vertical-align: middle;\n",
       "    }\n",
       "\n",
       "    .dataframe tbody tr th {\n",
       "        vertical-align: top;\n",
       "    }\n",
       "\n",
       "    .dataframe thead th {\n",
       "        text-align: right;\n",
       "    }\n",
       "</style>\n",
       "<table border=\"1\" class=\"dataframe\">\n",
       "  <thead>\n",
       "    <tr style=\"text-align: right;\">\n",
       "      <th></th>\n",
       "      <th>Actual Mark</th>\n",
       "      <th>Predicted Mark</th>\n",
       "    </tr>\n",
       "  </thead>\n",
       "  <tbody>\n",
       "    <tr>\n",
       "      <th>0</th>\n",
       "      <td>30</td>\n",
       "      <td>30.378972</td>\n",
       "    </tr>\n",
       "    <tr>\n",
       "      <th>1</th>\n",
       "      <td>81</td>\n",
       "      <td>82.015213</td>\n",
       "    </tr>\n",
       "    <tr>\n",
       "      <th>2</th>\n",
       "      <td>85</td>\n",
       "      <td>76.482759</td>\n",
       "    </tr>\n",
       "    <tr>\n",
       "      <th>3</th>\n",
       "      <td>67</td>\n",
       "      <td>61.729547</td>\n",
       "    </tr>\n",
       "    <tr>\n",
       "      <th>4</th>\n",
       "      <td>54</td>\n",
       "      <td>49.742563</td>\n",
       "    </tr>\n",
       "    <tr>\n",
       "      <th>5</th>\n",
       "      <td>76</td>\n",
       "      <td>69.106153</td>\n",
       "    </tr>\n",
       "    <tr>\n",
       "      <th>6</th>\n",
       "      <td>17</td>\n",
       "      <td>15.625761</td>\n",
       "    </tr>\n",
       "    <tr>\n",
       "      <th>7</th>\n",
       "      <td>35</td>\n",
       "      <td>40.521805</td>\n",
       "    </tr>\n",
       "  </tbody>\n",
       "</table>\n",
       "</div>"
      ],
      "text/plain": [
       "   Actual Mark  Predicted Mark\n",
       "0           30       30.378972\n",
       "1           81       82.015213\n",
       "2           85       76.482759\n",
       "3           67       61.729547\n",
       "4           54       49.742563\n",
       "5           76       69.106153\n",
       "6           17       15.625761\n",
       "7           35       40.521805"
      ]
     },
     "execution_count": 52,
     "metadata": {},
     "output_type": "execute_result"
    }
   ],
   "source": [
    "#Comparing_the_predicted_marks_with_actual_marks\n",
    "\n",
    "comparing=pd.DataFrame({\"Actual Mark\":test_target,\"Predicted Mark\":checking})\n",
    "comparing"
   ]
  },
  {
   "cell_type": "code",
   "execution_count": 64,
   "id": "3fd202e5",
   "metadata": {
    "scrolled": true
   },
   "outputs": [
    {
     "data": {
      "text/plain": [
       "<module 'matplotlib.pyplot' from 'C:\\\\Users\\\\varyo\\\\Anaconda3\\\\lib\\\\site-packages\\\\matplotlib\\\\pyplot.py'>"
      ]
     },
     "execution_count": 64,
     "metadata": {},
     "output_type": "execute_result"
    },
    {
     "data": {
      "image/png": "[encoded data removed]",
      "text/plain": [
       "<Figure size 432x288 with 1 Axes>"
      ]
     },
     "metadata": {
      "needs_background": "light"
     },
     "output_type": "display_data"
    }
   ],
   "source": [
    "#Visually_Comparing_the_marks_of_Predicted_and_Actual_Mark\n",
    "\n",
    "plt.scatter(x=test_attribute,y=test_target,color='Black')\n",
    "plt.plot(test_attribute,checking,color='Red')\n",
    "plt.title(\"Comparing the actual and predicted mark\")\n",
    "plt.xlabel(\"Hours\")\n",
    "plt.ylabel(\"Marks\")\n",
    "plt"
   ]
  },
  {
   "cell_type": "markdown",
   "id": "df3c69df",
   "metadata": {},
   "source": [
    "### Question: What will be the predicted score of a student if he/she studies 9.25 hrs/day?"
   ]
  },
  {
   "cell_type": "code",
   "execution_count": 96,
   "id": "30b645a1",
   "metadata": {},
   "outputs": [
    {
     "name": "stdout",
     "output_type": "stream",
     "text": [
      "The predicted mark for 9.25 hours/day is 90.77\n"
     ]
    }
   ],
   "source": [
    "#Predicting_for_Question\n",
    "\n",
    "hours=[9.25]\n",
    "predicting_mark=model.predict([hours])\n",
    "print(f\"The predicted mark for {hours[0]} hours/day is {round(predicting_mark[0],2)}\")"
   ]
  },
  {
   "cell_type": "markdown",
   "id": "503e0dac",
   "metadata": {},
   "source": [
    "### Error in Model"
   ]
  },
  {
   "cell_type": "code",
   "execution_count": 89,
   "id": "da767cd2",
   "metadata": {
    "scrolled": true
   },
   "outputs": [
    {
     "name": "stdout",
     "output_type": "stream",
     "text": [
      "The error percentage of model is 4.763945233265719\n"
     ]
    }
   ],
   "source": [
    "#Accuracy_of_model\n",
    "\n",
    "error=median_absolute_error(test_target,checking)\n",
    "print(\"The error percentage of model is\",error)\n"
   ]
  },
  {
   "cell_type": "markdown",
   "id": "6065ce49",
   "metadata": {},
   "source": [
    "### END"
   ]
  }
 ],
 "metadata": {
  "kernelspec": {
   "display_name": "Python 3",
   "language": "python",
   "name": "python3"
  },
  "language_info": {
   "codemirror_mode": {
    "name": "ipython",
    "version": 3
   },
   "file_extension": ".py",
   "mimetype": "text/x-python",
   "name": "python",
   "nbconvert_exporter": "python",
   "pygments_lexer": "ipython3",
   "version": "3.8.8"
  }
 },
 "nbformat": 4,
 "nbformat_minor": 5
}
